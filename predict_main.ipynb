{
 "cells": [
  {
   "cell_type": "code",
   "execution_count": 1,
   "metadata": {
    "collapsed": true
   },
   "outputs": [],
   "source": [
    "import numpy as np\n",
    "import pandas as pd\n",
    "import lightgbm as lgb\n",
    "import joblib"
   ]
  },
  {
   "cell_type": "code",
   "execution_count": 2,
   "metadata": {
    "collapsed": true
   },
   "outputs": [],
   "source": [
    "##Load test data\n",
    "# processs_datas/test_process_datas.csv\n",
    "data_test = pd.read_csv('./processs_datas/test_process_datas.csv')\n",
    "data_id = data_test['id']\n",
    "data_test.drop(['id'],axis=1,inplace=True)"
   ]
  },
  {
   "cell_type": "code",
   "execution_count": 3,
   "metadata": {},
   "outputs": [
    {
     "name": "stderr",
     "output_type": "stream",
     "text": [
      "C:\\Users\\lq\\AppData\\Roaming\\Python\\Python36\\site-packages\\sklearn\\preprocessing\\label.py:151: DeprecationWarning: The truth value of an empty array is ambiguous. Returning False, but in future this will result in an error. Use `array.size > 0` to check that an array is not empty.\n",
      "  if diff:\n"
     ]
    },
    {
     "name": "stdout",
     "output_type": "stream",
     "text": [
      "       id  isDefault\n",
      "0  800000          0\n",
      "1  800001          0\n",
      "2  800002          0\n",
      "3  800003          0\n",
      "4  800004          0\n",
      "0    192915\n",
      "1      7085\n",
      "Name: isDefault, dtype: int64\n"
     ]
    }
   ],
   "source": [
    "#load trained model\n",
    "lgb_model = joblib.load('./model/lgb_model.pkl')\n",
    "\n",
    "#predict\n",
    "test_y_hat = lgb_model.predict(data_test)\n",
    "\n",
    "submit = pd.concat([pd.DataFrame(data_id,columns=['id']),pd.DataFrame(test_y_hat,columns=['isDefault'])],axis=1)\n",
    "print(submit.head())\n",
    "predict_dir_path = './predict'\n",
    "import os\n",
    "if os.path.exists(predict_dir_path):\n",
    "    pass\n",
    "else:\n",
    "    os.makedirs(predict_dir_path)\n",
    "submit.to_csv('./predict/lgb_submit.csv',index=False)\n",
    "print(submit['isDefault'].value_counts())"
   ]
  },
  {
   "cell_type": "code",
   "execution_count": 5,
   "metadata": {},
   "outputs": [
    {
     "data": {
      "text/plain": [
       "array([[0.8903012 , 0.1096988 ],\n",
       "       [0.57276451, 0.42723549],\n",
       "       [0.50928911, 0.49071089],\n",
       "       ...,\n",
       "       [0.80597508, 0.19402492],\n",
       "       [0.83755827, 0.16244173],\n",
       "       [0.96599835, 0.03400165]])"
      ]
     },
     "execution_count": 5,
     "metadata": {},
     "output_type": "execute_result"
    }
   ],
   "source": [
    "y_pro = lgb_model.predict_proba(data_test)\n",
    "y_pro "
   ]
  },
  {
   "cell_type": "code",
   "execution_count": 6,
   "metadata": {},
   "outputs": [
    {
     "name": "stdout",
     "output_type": "stream",
     "text": [
      "       id  isDefault\n",
      "0  800000   0.109699\n",
      "1  800001   0.427235\n",
      "2  800002   0.490711\n",
      "3  800003   0.296033\n",
      "4  800004   0.397128\n",
      "0.082738    1\n",
      "0.116547    1\n",
      "0.215734    1\n",
      "0.116617    1\n",
      "0.144574    1\n",
      "           ..\n",
      "0.076859    1\n",
      "0.131564    1\n",
      "0.080315    1\n",
      "0.427314    1\n",
      "0.295038    1\n",
      "Name: isDefault, Length: 200000, dtype: int64\n"
     ]
    }
   ],
   "source": [
    "submit = pd.concat([pd.DataFrame(data_id,columns=['id']),pd.DataFrame(y_pro[:,1],columns=['isDefault'])],axis=1)\n",
    "print(submit.head())\n",
    "predict_dir_path = './predict'\n",
    "import os\n",
    "if os.path.exists(predict_dir_path):\n",
    "    pass\n",
    "else:\n",
    "    os.makedirs(predict_dir_path)\n",
    "submit.to_csv('./predict/lgb_submit_proba.csv',index=False)\n",
    "print(submit['isDefault'].value_counts())"
   ]
  },
  {
   "cell_type": "code",
   "execution_count": null,
   "metadata": {
    "collapsed": true
   },
   "outputs": [],
   "source": []
  }
 ],
 "metadata": {
  "kernelspec": {
   "display_name": "Python 3 (ipykernel)",
   "language": "python",
   "name": "python3"
  },
  "language_info": {
   "codemirror_mode": {
    "name": "ipython",
    "version": 3
   },
   "file_extension": ".py",
   "mimetype": "text/x-python",
   "name": "python",
   "nbconvert_exporter": "python",
   "pygments_lexer": "ipython3",
   "version": "3.9.12"
  }
 },
 "nbformat": 4,
 "nbformat_minor": 2
}
